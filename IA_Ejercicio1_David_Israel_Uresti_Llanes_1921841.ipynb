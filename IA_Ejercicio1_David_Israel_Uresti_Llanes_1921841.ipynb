{
  "nbformat": 4,
  "nbformat_minor": 0,
  "metadata": {
    "colab": {
      "name": "Copia de IA_Ejercicio1_David Israel Uresti Llanes_1921841.ipynb",
      "provenance": [],
      "collapsed_sections": [],
      "toc_visible": true
    },
    "kernelspec": {
      "name": "python3",
      "display_name": "Python 3"
    },
    "language_info": {
      "name": "python"
    }
  },
  "cells": [
    {
      "cell_type": "markdown",
      "source": [
        "Actividad.- 2 Ejercicios en Python.\n",
        "David Israel Uresti Llanes\n",
        "Matrícula: 1921841\n",
        "Hora: N1-N3\n"
      ],
      "metadata": {
        "id": "tevJnmBmLtZX"
      }
    },
    {
      "cell_type": "markdown",
      "source": [
        "- Ejercicio #1\n",
        "\n",
        "Escribe un programa que le pida al usuario por su nombre y que lo salude con su nombre, excepto si se llama “Ana”, “Juan”, y “Pedro”. "
      ],
      "metadata": {
        "id": "CerLFO0_ywSN"
      }
    },
    {
      "cell_type": "code",
      "source": [
        "nombre=input(\"Holaaa!! ¿Cuál es tu nombre?\")\n",
        "if nombre==\"Ana\" or nombre== \"Juan\" or nombre==\"Pedro\":\n",
        "  print(\"Uy, una disculpa. Me programaron para no saludar personas que tengan tu nombre\")\n",
        "else:\n",
        "    print(\"Que bonito nombre tienes!!!, mucho gusto\"+ nombre)"
      ],
      "metadata": {
        "colab": {
          "base_uri": "https://localhost:8080/"
        },
        "id": "7Nph8dMPyo37",
        "outputId": "3eea91f1-7b89-404c-f856-98b62abc641e"
      },
      "execution_count": null,
      "outputs": [
        {
          "output_type": "stream",
          "name": "stdout",
          "text": [
            "Holaaa!! ¿Cuál es tu nombre? David\n",
            "Que bonito nombre tienes!!!, mucho gusto David\n"
          ]
        }
      ]
    },
    {
      "cell_type": "markdown",
      "source": [
        "- Ejercicio #2\n",
        "\n",
        "Escribe una función que regrese el último elemento de una lista y que revierta el orden de la lista e imprima la lista revertida."
      ],
      "metadata": {
        "id": "OH6Xbp9B1rBt"
      }
    },
    {
      "cell_type": "code",
      "source": [
        "def funcion(lista):\n",
        "    print(lista[-1])\n",
        "    print(lista[::-1])\n",
        "lista=input(\"Escribir la lista, separar cada uno de los elementos con un espacio: \")\n",
        "salida=lista.split() #El split va a separar la cadena por cada uno de los espacios que haya.\n",
        "funcion(salida)\n"
      ],
      "metadata": {
        "colab": {
          "base_uri": "https://localhost:8080/"
        },
        "id": "Yzx4Z9cV10Cj",
        "outputId": "7d8bc468-0242-4836-ac54-d653bde25b73"
      },
      "execution_count": null,
      "outputs": [
        {
          "output_type": "stream",
          "name": "stdout",
          "text": [
            "Escribir la lista, separar cada uno de los elementos con un espacio: 8 9 10\n",
            "10\n",
            "['10', '9', '8']\n"
          ]
        }
      ]
    },
    {
      "cell_type": "markdown",
      "source": [
        "- Ejercicio #3\n",
        "\n",
        "Escribe una función que toma una lista de strings y los imprima línea por línea en un marco rectangular. Por ejemplo, la lista [“Hola”, “a”, “todos”, “esto”, “es”, “un”, “marco”] se imprime:\n",
        "\n",
        "**********\n",
        "* Hola   \n",
        "* a      \n",
        "* todos  \n",
        "* esto   \n",
        "* es     \n",
        "* un     \n",
        "* marco  \n",
        "**********"
      ],
      "metadata": {
        "id": "YyhFLFbY43Tc"
      }
    },
    {
      "cell_type": "code",
      "source": [
        "def funcion(lista):\n",
        "  for x in lista:\n",
        "      print(x)\n",
        "lista=input(\"Escribir la lista, colocar los caracteres a conveniencia para generar el marco rectangular: \")\n",
        "salida=lista.split()\n",
        "funcion(salida)"
      ],
      "metadata": {
        "colab": {
          "base_uri": "https://localhost:8080/"
        },
        "id": "MapelXhl5BA4",
        "outputId": "4ee597d2-3844-44cb-da68-8538bd292647"
      },
      "execution_count": null,
      "outputs": [
        {
          "output_type": "stream",
          "name": "stdout",
          "text": [
            "Escribir la lista, colocar los caracteres a conveniencia para generar el marco rectangular: **** *8** *9** *10* *11* ****\n",
            "****\n",
            "*8**\n",
            "*9**\n",
            "*10*\n",
            "*11*\n",
            "****\n"
          ]
        }
      ]
    }
  ]
}